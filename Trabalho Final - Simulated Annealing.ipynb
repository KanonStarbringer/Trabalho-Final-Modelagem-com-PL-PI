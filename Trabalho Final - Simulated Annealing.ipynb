{
 "cells": [
  {
   "cell_type": "markdown",
   "id": "bf53541c-f009-41ec-bb86-9368edca23df",
   "metadata": {},
   "source": [
    "# Trabalho Final - Simulated Annealing"
   ]
  },
  {
   "cell_type": "code",
   "execution_count": 1,
   "id": "4721b133-3c64-486a-8481-17f212968983",
   "metadata": {},
   "outputs": [],
   "source": [
    "import pandas as pd\n",
    "import numpy as np\n",
    "import random\n",
    "import math"
   ]
  },
  {
   "cell_type": "code",
   "execution_count": 2,
   "id": "f8905fee-867a-43ef-889f-400d7fe80623",
   "metadata": {},
   "outputs": [],
   "source": [
    "# Load the data from Excel\n",
    "file = 'https://github.com/KanonStarbringer/Trabalho-Final-Modelagem-com-PL-PI/raw/main/trabalho%20final.xlsx'\n",
    "df = pd.read_excel(file, sheet_name='Instancia 1')"
   ]
  },
  {
   "cell_type": "code",
   "execution_count": 3,
   "id": "bf597863-3c22-416b-9ad4-e6cf998466e6",
   "metadata": {},
   "outputs": [],
   "source": [
    "# Extract data\n",
    "## Extraindo os parametros do DataFrame\n",
    "n = df.shape[1] - 1\n",
    "r = df.iloc[0, 1:].tolist()\n",
    "d = df.iloc[1, 1:].tolist()\n",
    "p = df.iloc[2, 1:].tolist()\n",
    "w = df.iloc[3, 1:].tolist()\n",
    "tipos = df.iloc[4, 1:].tolist()"
   ]
  },
  {
   "cell_type": "code",
   "execution_count": 4,
   "id": "52236113-a096-4fe2-ab37-33a3bdda3f49",
   "metadata": {},
   "outputs": [],
   "source": [
    "# Number of jobs\n",
    "n = len(r)\n",
    "T = max(p) + sum(d)  # Planning horizon"
   ]
  },
  {
   "cell_type": "code",
   "execution_count": 5,
   "id": "7a36b45f-0dd3-4d4f-a19c-af7fc8ef9a00",
   "metadata": {},
   "outputs": [],
   "source": [
    "# Evaluate fitness function\n",
    "def evaluate(schedule):\n",
    "    total_cost = 0\n",
    "    end_times = np.zeros(n)\n",
    "    for i in range(n):\n",
    "        job = schedule[i]\n",
    "        start_time = max(r[job], end_times[i-1] if i > 0 else 0)\n",
    "        end_time = start_time + d[job]\n",
    "        delay = max(0, end_time - p[job])\n",
    "        penalty = 0\n",
    "        if delay > 0:\n",
    "            if delay <= 5:\n",
    "                penalty = w[job] * delay\n",
    "            else:\n",
    "                penalty = w[job] * 5 + w[job] * 2 * (delay - 5)\n",
    "        total_cost += penalty\n",
    "        end_times[i] = end_time\n",
    "        \n",
    "        # Machine changeover\n",
    "        if i > 0 and tipos[schedule[i-1]] != tipos[job]:\n",
    "            start_time += 1\n",
    "            end_time += 1\n",
    "            end_times[i] += 1\n",
    "            \n",
    "    return total_cost"
   ]
  },
  {
   "cell_type": "code",
   "execution_count": 6,
   "id": "e027ed13-dac3-4f16-b2c8-35dbd690d5fb",
   "metadata": {},
   "outputs": [],
   "source": [
    "# Generate initial solution\n",
    "def generate_initial_solution():\n",
    "    return list(np.random.permutation(n))"
   ]
  },
  {
   "cell_type": "code",
   "execution_count": 7,
   "id": "0b6fd3c5-17e7-41a9-84ba-a06e5a4fe0cf",
   "metadata": {},
   "outputs": [],
   "source": [
    "# Generate neighbor solution\n",
    "def generate_neighbor(solution):\n",
    "    neighbor = solution.copy()\n",
    "    i, j = random.sample(range(n), 2)\n",
    "    neighbor[i], neighbor[j] = neighbor[j], neighbor[i]\n",
    "    return neighbor"
   ]
  },
  {
   "cell_type": "code",
   "execution_count": 8,
   "id": "655d59cf-6e7d-4546-9a82-2ba83510d00a",
   "metadata": {},
   "outputs": [],
   "source": [
    "# Simulated Annealing\n",
    "def simulated_annealing(initial_temp, cooling_rate, max_iter):\n",
    "    current_solution = generate_initial_solution()\n",
    "    current_cost = evaluate(current_solution)\n",
    "    best_solution = current_solution\n",
    "    best_cost = current_cost\n",
    "    temperature = initial_temp\n",
    "    \n",
    "    for iteration in range(max_iter):\n",
    "        neighbor = generate_neighbor(current_solution)\n",
    "        neighbor_cost = evaluate(neighbor)\n",
    "        \n",
    "        if neighbor_cost < current_cost or random.uniform(0, 1) < math.exp((current_cost - neighbor_cost) / temperature):\n",
    "            current_solution = neighbor\n",
    "            current_cost = neighbor_cost\n",
    "            \n",
    "            if current_cost < best_cost:\n",
    "                best_solution = current_solution\n",
    "                best_cost = current_cost\n",
    "        \n",
    "        temperature *= cooling_rate\n",
    "        \n",
    "        if temperature < 1e-10:\n",
    "            break\n",
    "            \n",
    "    return best_solution, best_cost"
   ]
  },
  {
   "cell_type": "code",
   "execution_count": 9,
   "id": "2aa12281-78a7-428e-8fa4-3af35c70df2c",
   "metadata": {},
   "outputs": [
    {
     "name": "stdout",
     "output_type": "stream",
     "text": [
      "Best schedule: [3, 2, 5, 1, 0, 6, 4]\n",
      "Best cost: 76.0\n"
     ]
    }
   ],
   "source": [
    "# Run the algorithm\n",
    "best_schedule, best_cost = simulated_annealing(initial_temp=1000, cooling_rate=0.99, max_iter=10000)\n",
    "print(f\"Best schedule: {best_schedule}\")\n",
    "print(f\"Best cost: {best_cost}\")"
   ]
  },
  {
   "cell_type": "code",
   "execution_count": null,
   "id": "0f52ef3b-d1fb-48bf-bce6-9b64ae622e02",
   "metadata": {},
   "outputs": [],
   "source": []
  }
 ],
 "metadata": {
  "kernelspec": {
   "display_name": "Python 3 (ipykernel)",
   "language": "python",
   "name": "python3"
  },
  "language_info": {
   "codemirror_mode": {
    "name": "ipython",
    "version": 3
   },
   "file_extension": ".py",
   "mimetype": "text/x-python",
   "name": "python",
   "nbconvert_exporter": "python",
   "pygments_lexer": "ipython3",
   "version": "3.11.7"
  }
 },
 "nbformat": 4,
 "nbformat_minor": 5
}
