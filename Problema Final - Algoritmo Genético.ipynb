{
 "cells": [
  {
   "cell_type": "markdown",
   "id": "29ceb1fd-9941-476d-90d4-e1754b16f964",
   "metadata": {},
   "source": [
    "## Problema Final - Algoritmo Genético"
   ]
  },
  {
   "cell_type": "code",
   "execution_count": 1,
   "id": "63bf05b8-8013-4f11-b16b-b96215caf690",
   "metadata": {},
   "outputs": [],
   "source": [
    "import pandas as pd\n",
    "import numpy as np\n",
    "import random"
   ]
  },
  {
   "cell_type": "code",
   "execution_count": 2,
   "id": "d56599cc-c710-484d-9357-28fdfcd7c953",
   "metadata": {},
   "outputs": [],
   "source": [
    "# Load the data from Excel\n",
    "file = 'https://github.com/KanonStarbringer/Trabalho-Final-Modelagem-com-PL-PI/raw/main/trabalho%20final.xlsx'\n",
    "df = pd.read_excel(file, sheet_name='Instancia 1')"
   ]
  },
  {
   "cell_type": "code",
   "execution_count": 3,
   "id": "1777565d-bc24-4e44-be32-6056921653e3",
   "metadata": {},
   "outputs": [],
   "source": [
    "# Extract data\n",
    "## Extraindo os parametros do DataFrame\n",
    "n = df.shape[1] - 1\n",
    "r = df.iloc[0, 1:].tolist()\n",
    "d = df.iloc[1, 1:].tolist()\n",
    "p = df.iloc[2, 1:].tolist()\n",
    "w = df.iloc[3, 1:].tolist()\n",
    "tipos = df.iloc[4, 1:].tolist()"
   ]
  },
  {
   "cell_type": "code",
   "execution_count": 4,
   "id": "e0594c99-eb71-4db4-9a7e-c9c6c914624c",
   "metadata": {},
   "outputs": [],
   "source": [
    "# Number of jobs\n",
    "n = len(r)\n",
    "T = max(p) + sum(d)  # Planning horizon"
   ]
  },
  {
   "cell_type": "code",
   "execution_count": 5,
   "id": "c161e6ef-105d-47bc-85ac-960d00a12e58",
   "metadata": {},
   "outputs": [],
   "source": [
    "# Evaluate fitness function\n",
    "def evaluate(schedule):\n",
    "    total_cost = 0\n",
    "    end_times = np.zeros(n)\n",
    "    for i in range(n):\n",
    "        job = schedule[i]\n",
    "        start_time = max(r[job], end_times[i-1] if i > 0 else 0)\n",
    "        end_time = start_time + d[job]\n",
    "        delay = max(0, end_time - p[job])\n",
    "        penalty = 0\n",
    "        if delay > 0:\n",
    "            if delay <= 5:\n",
    "                penalty = w[job] * delay\n",
    "            else:\n",
    "                penalty = w[job] * 5 + w[job] * 2 * (delay - 5)\n",
    "        total_cost += penalty\n",
    "        end_times[i] = end_time\n",
    "        \n",
    "        # Machine changeover\n",
    "        if i > 0 and tipos[schedule[i-1]] != tipos[job]:\n",
    "            start_time += 1\n",
    "            end_time += 1\n",
    "            end_times[i] += 1\n",
    "            \n",
    "    return total_cost\n"
   ]
  },
  {
   "cell_type": "code",
   "execution_count": 6,
   "id": "78cef810-8518-48ec-abc3-724521b58f71",
   "metadata": {},
   "outputs": [],
   "source": [
    "# Generate initial population\n",
    "def generate_initial_population(pop_size):\n",
    "    population = []\n",
    "    for _ in range(pop_size):\n",
    "        individual = list(np.random.permutation(n))\n",
    "        population.append(individual)\n",
    "    return population"
   ]
  },
  {
   "cell_type": "code",
   "execution_count": 7,
   "id": "5f4bf654-af21-4682-a2e8-0cd9365c9b93",
   "metadata": {},
   "outputs": [],
   "source": [
    "# Selection\n",
    "def selection(population, fitnesses):\n",
    "    selected = random.choices(population, weights=fitnesses, k=len(population))\n",
    "    return selected"
   ]
  },
  {
   "cell_type": "code",
   "execution_count": 8,
   "id": "0f9ae7e6-17d1-46e4-b963-f995a64d3afe",
   "metadata": {},
   "outputs": [],
   "source": [
    "# Crossover\n",
    "def crossover(parent1, parent2):\n",
    "    point = random.randint(1, n-2)\n",
    "    child1 = parent1[:point] + [gene for gene in parent2 if gene not in parent1[:point]]\n",
    "    child2 = parent2[:point] + [gene for gene in parent1 if gene not in parent2[:point]]\n",
    "    return child1, child2"
   ]
  },
  {
   "cell_type": "code",
   "execution_count": 9,
   "id": "5b6c68a3-a5ff-42d7-93e1-711a03ce566f",
   "metadata": {},
   "outputs": [],
   "source": [
    "# Mutation\n",
    "def mutation(individual):\n",
    "    point1, point2 = random.sample(range(n), 2)\n",
    "    individual[point1], individual[point2] = individual[point2], individual[point1]\n",
    "    return individual"
   ]
  },
  {
   "cell_type": "code",
   "execution_count": 10,
   "id": "9f6c629a-53b6-4bf3-830a-2be32c8bbdca",
   "metadata": {},
   "outputs": [],
   "source": [
    "# Genetic Algorithm\n",
    "def genetic_algorithm(pop_size, generations):\n",
    "    population = generate_initial_population(pop_size)\n",
    "    for generation in range(generations):\n",
    "        fitnesses = [1/evaluate(individual) for individual in population]\n",
    "        population = selection(population, fitnesses)\n",
    "        next_population = []\n",
    "        for i in range(0, pop_size, 2):\n",
    "            parent1, parent2 = population[i], population[i+1]\n",
    "            child1, child2 = crossover(parent1, parent2)\n",
    "            next_population.append(mutation(child1))\n",
    "            next_population.append(mutation(child2))\n",
    "        population = next_population\n",
    "    best_individual = min(population, key=evaluate)\n",
    "    return best_individual, evaluate(best_individual)"
   ]
  },
  {
   "cell_type": "code",
   "execution_count": 11,
   "id": "02d745ac-0b25-4642-8955-a6c94e47dfdd",
   "metadata": {},
   "outputs": [
    {
     "name": "stdout",
     "output_type": "stream",
     "text": [
      "Best schedule: [3, 2, 4, 5, 1, 0, 6]\n",
      "Best cost: 83.0\n"
     ]
    }
   ],
   "source": [
    "# Run the algorithm\n",
    "best_schedule, best_cost = genetic_algorithm(pop_size=100, generations=1000)\n",
    "print(f\"Best schedule: {best_schedule}\")\n",
    "print(f\"Best cost: {best_cost}\")"
   ]
  },
  {
   "cell_type": "code",
   "execution_count": null,
   "id": "dc5fa880-1fd4-44d8-b490-93387b176c9a",
   "metadata": {},
   "outputs": [],
   "source": []
  }
 ],
 "metadata": {
  "kernelspec": {
   "display_name": "Python 3 (ipykernel)",
   "language": "python",
   "name": "python3"
  },
  "language_info": {
   "codemirror_mode": {
    "name": "ipython",
    "version": 3
   },
   "file_extension": ".py",
   "mimetype": "text/x-python",
   "name": "python",
   "nbconvert_exporter": "python",
   "pygments_lexer": "ipython3",
   "version": "3.11.7"
  }
 },
 "nbformat": 4,
 "nbformat_minor": 5
}
